{
 "cells": [
  {
   "cell_type": "code",
   "execution_count": 1,
   "id": "3d778acf",
   "metadata": {},
   "outputs": [
    {
     "name": "stdout",
     "output_type": "stream",
     "text": [
      "Collecting ultralytics\n",
      "  Downloading ultralytics-8.2.28-py3-none-any.whl (779 kB)\n",
      "Requirement already satisfied: seaborn>=0.11.0 in c:\\users\\kobi\\anaconda3\\lib\\site-packages (from ultralytics) (0.11.2)\n",
      "Requirement already satisfied: psutil in c:\\users\\kobi\\anaconda3\\lib\\site-packages (from ultralytics) (5.8.0)\n",
      "Requirement already satisfied: matplotlib>=3.3.0 in c:\\users\\kobi\\anaconda3\\lib\\site-packages (from ultralytics) (3.4.3)\n",
      "Collecting py-cpuinfo\n",
      "  Downloading py_cpuinfo-9.0.0-py3-none-any.whl (22 kB)\n",
      "Collecting torchvision>=0.9.0\n",
      "  Downloading torchvision-0.18.0-cp39-cp39-win_amd64.whl (1.2 MB)\n",
      "Requirement already satisfied: pandas>=1.1.4 in c:\\users\\kobi\\anaconda3\\lib\\site-packages (from ultralytics) (1.3.4)\n",
      "Collecting opencv-python>=4.6.0\n",
      "  Downloading opencv_python-4.10.0.82-cp37-abi3-win_amd64.whl (38.8 MB)\n",
      "Requirement already satisfied: scipy>=1.4.1 in c:\\users\\kobi\\anaconda3\\lib\\site-packages (from ultralytics) (1.7.1)\n",
      "Collecting tqdm>=4.64.0\n",
      "  Downloading tqdm-4.66.4-py3-none-any.whl (78 kB)\n",
      "Collecting torch>=1.8.0\n",
      "  Downloading torch-2.3.0-cp39-cp39-win_amd64.whl (159.7 MB)\n",
      "Collecting ultralytics-thop>=0.2.5\n",
      "Note: you may need to restart the kernel to use updated packages.\n",
      "  Downloading ultralytics_thop-0.2.7-py3-none-any.whl (25 kB)\n",
      "Requirement already satisfied: requests>=2.23.0 in c:\\users\\kobi\\anaconda3\\lib\\site-packages (from ultralytics) (2.26.0)\n",
      "Requirement already satisfied: pyyaml>=5.3.1 in c:\\users\\kobi\\anaconda3\\lib\\site-packages (from ultralytics) (6.0)\n"
     ]
    },
    {
     "name": "stderr",
     "output_type": "stream",
     "text": [
      "ERROR: Cannot uninstall 'TBB'. It is a distutils installed project and thus we cannot accurately determine which files belong to it which would lead to only a partial uninstall.\n"
     ]
    },
    {
     "name": "stdout",
     "output_type": "stream",
     "text": [
      "Requirement already satisfied: pillow>=7.1.2 in c:\\users\\kobi\\anaconda3\\lib\\site-packages (from ultralytics) (8.4.0)\n",
      "Requirement already satisfied: kiwisolver>=1.0.1 in c:\\users\\kobi\\anaconda3\\lib\\site-packages (from matplotlib>=3.3.0->ultralytics) (1.3.1)\n",
      "Requirement already satisfied: cycler>=0.10 in c:\\users\\kobi\\anaconda3\\lib\\site-packages (from matplotlib>=3.3.0->ultralytics) (0.10.0)\n",
      "Requirement already satisfied: python-dateutil>=2.7 in c:\\users\\kobi\\anaconda3\\lib\\site-packages (from matplotlib>=3.3.0->ultralytics) (2.8.2)\n",
      "Requirement already satisfied: pyparsing>=2.2.1 in c:\\users\\kobi\\anaconda3\\lib\\site-packages (from matplotlib>=3.3.0->ultralytics) (3.0.4)\n",
      "Requirement already satisfied: numpy>=1.16 in c:\\users\\kobi\\anaconda3\\lib\\site-packages (from matplotlib>=3.3.0->ultralytics) (1.20.3)\n",
      "Requirement already satisfied: six in c:\\users\\kobi\\anaconda3\\lib\\site-packages (from cycler>=0.10->matplotlib>=3.3.0->ultralytics) (1.16.0)\n",
      "Requirement already satisfied: pytz>=2017.3 in c:\\users\\kobi\\anaconda3\\lib\\site-packages (from pandas>=1.1.4->ultralytics) (2021.3)\n",
      "Requirement already satisfied: idna<4,>=2.5 in c:\\users\\kobi\\anaconda3\\lib\\site-packages (from requests>=2.23.0->ultralytics) (3.2)\n",
      "Requirement already satisfied: urllib3<1.27,>=1.21.1 in c:\\users\\kobi\\anaconda3\\lib\\site-packages (from requests>=2.23.0->ultralytics) (1.26.7)\n",
      "Requirement already satisfied: certifi>=2017.4.17 in c:\\users\\kobi\\anaconda3\\lib\\site-packages (from requests>=2.23.0->ultralytics) (2021.10.8)\n",
      "Requirement already satisfied: charset-normalizer~=2.0.0 in c:\\users\\kobi\\anaconda3\\lib\\site-packages (from requests>=2.23.0->ultralytics) (2.0.4)\n",
      "Requirement already satisfied: sympy in c:\\users\\kobi\\anaconda3\\lib\\site-packages (from torch>=1.8.0->ultralytics) (1.9)\n",
      "Requirement already satisfied: jinja2 in c:\\users\\kobi\\anaconda3\\lib\\site-packages (from torch>=1.8.0->ultralytics) (2.11.3)\n",
      "Requirement already satisfied: filelock in c:\\users\\kobi\\anaconda3\\lib\\site-packages (from torch>=1.8.0->ultralytics) (3.3.1)\n",
      "Requirement already satisfied: networkx in c:\\users\\kobi\\anaconda3\\lib\\site-packages (from torch>=1.8.0->ultralytics) (2.6.3)\n",
      "Collecting mkl<=2021.4.0,>=2021.1.1\n",
      "  Downloading mkl-2021.4.0-py2.py3-none-win_amd64.whl (228.5 MB)\n",
      "Collecting typing-extensions>=4.8.0\n",
      "  Downloading typing_extensions-4.12.1-py3-none-any.whl (37 kB)\n",
      "Requirement already satisfied: fsspec in c:\\users\\kobi\\anaconda3\\lib\\site-packages (from torch>=1.8.0->ultralytics) (2021.10.1)\n",
      "Collecting tbb==2021.*\n",
      "  Downloading tbb-2021.12.0-py3-none-win_amd64.whl (286 kB)\n",
      "Collecting intel-openmp==2021.*\n",
      "  Downloading intel_openmp-2021.4.0-py2.py3-none-win_amd64.whl (3.5 MB)\n",
      "Requirement already satisfied: colorama in c:\\users\\kobi\\anaconda3\\lib\\site-packages (from tqdm>=4.64.0->ultralytics) (0.4.4)\n",
      "Requirement already satisfied: MarkupSafe>=0.23 in c:\\users\\kobi\\anaconda3\\lib\\site-packages (from jinja2->torch>=1.8.0->ultralytics) (1.1.1)\n",
      "Requirement already satisfied: mpmath>=0.19 in c:\\users\\kobi\\anaconda3\\lib\\site-packages (from sympy->torch>=1.8.0->ultralytics) (1.2.1)\n",
      "Installing collected packages: tbb, intel-openmp, typing-extensions, mkl, torch, ultralytics-thop, tqdm, torchvision, py-cpuinfo, opencv-python, ultralytics\n",
      "  Attempting uninstall: tbb\n",
      "    Found existing installation: TBB 0.2\n"
     ]
    }
   ],
   "source": [
    "pip install ultralytics\n"
   ]
  }
 ],
 "metadata": {
  "kernelspec": {
   "display_name": "Python 3 (ipykernel)",
   "language": "python",
   "name": "python3"
  },
  "language_info": {
   "codemirror_mode": {
    "name": "ipython",
    "version": 3
   },
   "file_extension": ".py",
   "mimetype": "text/x-python",
   "name": "python",
   "nbconvert_exporter": "python",
   "pygments_lexer": "ipython3",
   "version": "3.9.7"
  }
 },
 "nbformat": 4,
 "nbformat_minor": 5
}
